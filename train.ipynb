{
 "cells": [
  {
   "cell_type": "code",
   "execution_count": 21,
   "metadata": {},
   "outputs": [
    {
     "data": {
      "application/vnd.jupyter.widget-view+json": {
       "model_id": "ce7dc79e462d48829231975de8b123c9",
       "version_major": 2,
       "version_minor": 0
      },
      "text/plain": [
       "Downloading pytorch_model.bin:   0%|          | 0.00/71.3M [00:00<?, ?B/s]"
      ]
     },
     "metadata": {},
     "output_type": "display_data"
    },
    {
     "data": {
      "application/vnd.jupyter.widget-view+json": {
       "model_id": "ad0b65e810c44c2bb4ebc1bdf9a06aa7",
       "version_major": 2,
       "version_minor": 0
      },
      "text/plain": [
       "Downloading (…)c4f33324b4/vocab.txt:   0%|          | 0.00/187k [00:00<?, ?B/s]"
      ]
     },
     "metadata": {},
     "output_type": "display_data"
    },
    {
     "name": "stderr",
     "output_type": "stream",
     "text": [
      "No sentence-transformers model found with name C:\\Users\\Administrator/.cache\\torch\\sentence_transformers\\nghuyong_ernie-3.0-nano-zh. Creating a new one with MEAN pooling.\n",
      "Some weights of ErnieModel were not initialized from the model checkpoint at C:\\Users\\Administrator/.cache\\torch\\sentence_transformers\\nghuyong_ernie-3.0-nano-zh and are newly initialized: ['ernie.pooler.dense.weight', 'ernie.pooler.dense.bias']\n",
      "You should probably TRAIN this model on a down-stream task to be able to use it for predictions and inference.\n"
     ]
    }
   ],
   "source": [
    "from sentence_transformers import SentenceTransformer, InputExample\n",
    "from torch.utils.data import DataLoader\n",
    "\n",
    "\n",
    "# 加载模型\n",
    "model = SentenceTransformer('nghuyong/ernie-3.0-nano-zh')"
   ]
  },
  {
   "cell_type": "code",
   "execution_count": 22,
   "metadata": {},
   "outputs": [],
   "source": [
    "trash = {\n",
    "    '教室内': {\n",
    "        '可回收垃圾': ['纸张', '粉笔盒', '笔壳', '书', '作业本'],\n",
    "        '其他垃圾': ['粉笔灰', '粉笔头', '铅笔屑', '小铅笔', '用过的笔芯', '橡皮屑', '灰尘', '用过的纸巾', '修正带'],\n",
    "        '有害垃圾': ['涂改液', '胶水', '胶棒', '胶带', '打印机墨盒', '打印机色带', '过期药品', '废电池', '废油漆', '废荧光灯管', '废矿物油', '废农药', '废杀虫剂', '废水银温度计', '废水银血压计']\n",
    "    },\n",
    "    '办公室内': {\n",
    "        '可回收垃圾': ['纸张', '矿泉水瓶', '报纸', '杂志', '快递盒', '牛奶盒', '包装盒', '纸盒', '易拉罐', '塑料瓶', '塑料袋', '塑料碗', '塑料盒', '塑料玩具', '塑料衣架', '塑料杯', '塑料餐具', '塑料文件袋', '塑料文件夹'],\n",
    "        '其他垃圾': ['用完的胶水盒', '润喉糖包装纸', '用过的笔芯', '用过的纸巾', '修正带', '粉笔灰', '粉笔头', '铅笔屑', '铅笔', '橡皮屑', '灰尘', '废弃的打火机', '废弃的香水瓶', '废弃的口红', '废弃的指甲油', '废弃的眼影', '废弃的粉饼', '废弃的粉底液', '废弃的睫毛膏', '废弃的眉笔'],\n",
    "        '易腐垃圾': ['茶叶渣', '水果核', '水果皮', '植物叶', '植物枝', '植物根', '剩菜剩饭', '骨头', '蛋壳', '花卉', '绿植'],\n",
    "    },\n",
    "    '医务室内': {\n",
    "        '可回收垃圾': ['药物盒'],\n",
    "        '其他垃圾': ['消毒棉球', '退热贴', '棉棒', '废弃创可贴', '胶带', '用过的纸巾'],\n",
    "        '有害垃圾': ['废弃水银温度计', '废弃水银血压计', '废弃药品', '废弃药片', '废弃药瓶', '废弃药膏']\n",
    "    },\n",
    "    '打印室内': {\n",
    "        '可回收垃圾': ['废弃纸张', '纸盒'],\n",
    "        '有害垃圾': ['打印机墨盒', '硒鼓', '废电池']\n",
    "    },\n",
    "    '医务室内': {\n",
    "        '可回收垃圾': ['药物盒'],\n",
    "        '其他垃圾': ['消毒棉球', '退热贴', '棉棒', '废弃创可贴', '胶带', '用过的纸巾'],\n",
    "        '有害垃圾': ['废弃水银温度计']\n",
    "    },\n",
    "    '卫生间内': {\n",
    "        '其他垃圾': ['用过的纸巾', '用过的卫生用品']\n",
    "    },\n",
    "    '校园内': {\n",
    "        '可回收垃圾': ['废弃球类', '羽毛球拍', '金属', '废金属', '废旧金属', '铁', '铜', '铝', '锌', '锡', '镍', '铅', '钢', '合金'],\n",
    "        '其他垃圾': ['灰尘'],\n",
    "        '易腐垃圾': ['落叶', '树枝'],\n",
    "        '有害垃圾': ['废弃电池', '污水']\n",
    "    },\n",
    "    '食堂内': {\n",
    "        '可回收垃圾': ['牛奶盒', '纸盒', '易拉罐'],\n",
    "        '其他垃圾': ['用过的纸巾', '塑料袋'],\n",
    "        '易腐垃圾': ['剩菜剩饭', '骨头', '果皮', '蛋壳']\n",
    "    },\n",
    "    '宿舍内': {\n",
    "        '可回收垃圾': ['用过的牙膏管', '纸盒', '纸张', '旧衣物', '塑料瓶'],\n",
    "        '其他垃圾': ['灰尘', '废弃牙刷'],\n",
    "    }\n",
    "}"
   ]
  },
  {
   "cell_type": "code",
   "execution_count": 23,
   "metadata": {},
   "outputs": [
    {
     "data": {
      "text/plain": [
       "{'可回收垃圾': ['纸张',\n",
       "  '粉笔盒',\n",
       "  '笔壳',\n",
       "  '书',\n",
       "  '作业本',\n",
       "  '纸张',\n",
       "  '矿泉水瓶',\n",
       "  '报纸',\n",
       "  '杂志',\n",
       "  '快递盒',\n",
       "  '牛奶盒',\n",
       "  '包装盒',\n",
       "  '纸盒',\n",
       "  '易拉罐',\n",
       "  '塑料瓶',\n",
       "  '塑料袋',\n",
       "  '塑料碗',\n",
       "  '塑料盒',\n",
       "  '塑料玩具',\n",
       "  '塑料衣架',\n",
       "  '塑料杯',\n",
       "  '塑料餐具',\n",
       "  '塑料文件袋',\n",
       "  '塑料文件夹',\n",
       "  '药物盒',\n",
       "  '废弃纸张',\n",
       "  '纸盒',\n",
       "  '废弃球类',\n",
       "  '羽毛球拍',\n",
       "  '金属',\n",
       "  '废金属',\n",
       "  '废旧金属',\n",
       "  '铁',\n",
       "  '铜',\n",
       "  '铝',\n",
       "  '锌',\n",
       "  '锡',\n",
       "  '镍',\n",
       "  '铅',\n",
       "  '钢',\n",
       "  '合金',\n",
       "  '牛奶盒',\n",
       "  '纸盒',\n",
       "  '易拉罐',\n",
       "  '用过的牙膏管',\n",
       "  '纸盒',\n",
       "  '纸张',\n",
       "  '旧衣物',\n",
       "  '塑料瓶'],\n",
       " '其他垃圾': ['粉笔灰',\n",
       "  '粉笔头',\n",
       "  '铅笔屑',\n",
       "  '小铅笔',\n",
       "  '用过的笔芯',\n",
       "  '橡皮屑',\n",
       "  '灰尘',\n",
       "  '用过的纸巾',\n",
       "  '修正带',\n",
       "  '用完的胶水盒',\n",
       "  '润喉糖包装纸',\n",
       "  '用过的笔芯',\n",
       "  '用过的纸巾',\n",
       "  '修正带',\n",
       "  '粉笔灰',\n",
       "  '粉笔头',\n",
       "  '铅笔屑',\n",
       "  '铅笔',\n",
       "  '橡皮屑',\n",
       "  '灰尘',\n",
       "  '废弃的打火机',\n",
       "  '废弃的香水瓶',\n",
       "  '废弃的口红',\n",
       "  '废弃的指甲油',\n",
       "  '废弃的眼影',\n",
       "  '废弃的粉饼',\n",
       "  '废弃的粉底液',\n",
       "  '废弃的睫毛膏',\n",
       "  '废弃的眉笔',\n",
       "  '消毒棉球',\n",
       "  '退热贴',\n",
       "  '棉棒',\n",
       "  '废弃创可贴',\n",
       "  '胶带',\n",
       "  '用过的纸巾',\n",
       "  '用过的纸巾',\n",
       "  '用过的卫生用品',\n",
       "  '灰尘',\n",
       "  '用过的纸巾',\n",
       "  '塑料袋',\n",
       "  '灰尘',\n",
       "  '废弃牙刷'],\n",
       " '有害垃圾': ['涂改液',\n",
       "  '胶水',\n",
       "  '胶棒',\n",
       "  '胶带',\n",
       "  '打印机墨盒',\n",
       "  '打印机色带',\n",
       "  '过期药品',\n",
       "  '废电池',\n",
       "  '废油漆',\n",
       "  '废荧光灯管',\n",
       "  '废矿物油',\n",
       "  '废农药',\n",
       "  '废杀虫剂',\n",
       "  '废水银温度计',\n",
       "  '废水银血压计',\n",
       "  '废弃水银温度计',\n",
       "  '打印机墨盒',\n",
       "  '硒鼓',\n",
       "  '废电池',\n",
       "  '废弃电池',\n",
       "  '污水'],\n",
       " '易腐垃圾': ['茶叶渣',\n",
       "  '水果核',\n",
       "  '水果皮',\n",
       "  '植物叶',\n",
       "  '植物枝',\n",
       "  '植物根',\n",
       "  '剩菜剩饭',\n",
       "  '骨头',\n",
       "  '蛋壳',\n",
       "  '花卉',\n",
       "  '绿植',\n",
       "  '落叶',\n",
       "  '树枝',\n",
       "  '剩菜剩饭',\n",
       "  '骨头',\n",
       "  '果皮',\n",
       "  '蛋壳']}"
      ]
     },
     "execution_count": 23,
     "metadata": {},
     "output_type": "execute_result"
    }
   ],
   "source": [
    "trash_type = {}\n",
    "for k1, v1 in trash.items():\n",
    "    for k2, v2 in v1.items():\n",
    "        if k2 not in trash_type:\n",
    "            trash_type[k2] = []\n",
    "        for v3 in v2:\n",
    "            trash_type[k2].append(v3.strip())\n",
    "trash_type"
   ]
  },
  {
   "cell_type": "code",
   "execution_count": 24,
   "metadata": {},
   "outputs": [
    {
     "name": "stdout",
     "output_type": "stream",
     "text": [
      "516\n"
     ]
    }
   ],
   "source": [
    "# 加载数据，构建训练集\n",
    "\n",
    "# # 读取文件\n",
    "# f = open('./cls.txt', 'r', encoding='utf-8').readlines()\n",
    "# f = [i.strip() for i in f]\n",
    "\n",
    "# # 将数据转换为字典\n",
    "# data = {}\n",
    "# for i in f:\n",
    "#     t, e = i.split('：')\n",
    "#     e = e.split('', '')\n",
    "#     data[t] = e\n",
    "#     print(len(e))\n",
    "\n",
    "# 构建训练集：将每个类别与其中的元素相似度定义为1，与其他类别的元素相似度定义为0\n",
    "train_data = []\n",
    "for k1, v1 in trash_type.items():\n",
    "    for v in v1:\n",
    "        train_data.append(InputExample(texts=[k1, v], label=float(1)))\n",
    "    for k2, v2 in trash_type.items():\n",
    "        if k1 != k2:\n",
    "            for v in v2:\n",
    "                train_data.append(InputExample(texts=[k1, v], label=float(0)))\n",
    "print(len(train_data))\n",
    "train_dataloader = DataLoader(train_data, shuffle=True, batch_size=16)"
   ]
  },
  {
   "cell_type": "code",
   "execution_count": 25,
   "metadata": {},
   "outputs": [
    {
     "data": {
      "application/vnd.jupyter.widget-view+json": {
       "model_id": "36d6d14c1e5545f7ac3a6f10da8da992",
       "version_major": 2,
       "version_minor": 0
      },
      "text/plain": [
       "Epoch:   0%|          | 0/50 [00:00<?, ?it/s]"
      ]
     },
     "metadata": {},
     "output_type": "display_data"
    },
    {
     "data": {
      "application/vnd.jupyter.widget-view+json": {
       "model_id": "b903e073ac5249f7901cab65ec6df9cb",
       "version_major": 2,
       "version_minor": 0
      },
      "text/plain": [
       "Iteration:   0%|          | 0/33 [00:00<?, ?it/s]"
      ]
     },
     "metadata": {},
     "output_type": "display_data"
    },
    {
     "data": {
      "application/vnd.jupyter.widget-view+json": {
       "model_id": "71e6dd476ffa4f349200501f57be694d",
       "version_major": 2,
       "version_minor": 0
      },
      "text/plain": [
       "Iteration:   0%|          | 0/33 [00:00<?, ?it/s]"
      ]
     },
     "metadata": {},
     "output_type": "display_data"
    },
    {
     "data": {
      "application/vnd.jupyter.widget-view+json": {
       "model_id": "f70785f583794fc8b93e34ed01fbd8f0",
       "version_major": 2,
       "version_minor": 0
      },
      "text/plain": [
       "Iteration:   0%|          | 0/33 [00:00<?, ?it/s]"
      ]
     },
     "metadata": {},
     "output_type": "display_data"
    },
    {
     "data": {
      "application/vnd.jupyter.widget-view+json": {
       "model_id": "737042c9fc0b49c4b815bbc445255f00",
       "version_major": 2,
       "version_minor": 0
      },
      "text/plain": [
       "Iteration:   0%|          | 0/33 [00:00<?, ?it/s]"
      ]
     },
     "metadata": {},
     "output_type": "display_data"
    },
    {
     "data": {
      "application/vnd.jupyter.widget-view+json": {
       "model_id": "a6962d1eca6a4ecfb18c72cdfd13abb8",
       "version_major": 2,
       "version_minor": 0
      },
      "text/plain": [
       "Iteration:   0%|          | 0/33 [00:00<?, ?it/s]"
      ]
     },
     "metadata": {},
     "output_type": "display_data"
    },
    {
     "data": {
      "application/vnd.jupyter.widget-view+json": {
       "model_id": "a4c40c2b20a446b397eeb1f7fff725be",
       "version_major": 2,
       "version_minor": 0
      },
      "text/plain": [
       "Iteration:   0%|          | 0/33 [00:00<?, ?it/s]"
      ]
     },
     "metadata": {},
     "output_type": "display_data"
    },
    {
     "data": {
      "application/vnd.jupyter.widget-view+json": {
       "model_id": "22b36dff7bcb4f7288a46c8d9b4f6acb",
       "version_major": 2,
       "version_minor": 0
      },
      "text/plain": [
       "Iteration:   0%|          | 0/33 [00:00<?, ?it/s]"
      ]
     },
     "metadata": {},
     "output_type": "display_data"
    },
    {
     "data": {
      "application/vnd.jupyter.widget-view+json": {
       "model_id": "8248de749dd34aed93ce3a34ddbf3364",
       "version_major": 2,
       "version_minor": 0
      },
      "text/plain": [
       "Iteration:   0%|          | 0/33 [00:00<?, ?it/s]"
      ]
     },
     "metadata": {},
     "output_type": "display_data"
    },
    {
     "data": {
      "application/vnd.jupyter.widget-view+json": {
       "model_id": "601da180f54d417dadc4c85d2493ae44",
       "version_major": 2,
       "version_minor": 0
      },
      "text/plain": [
       "Iteration:   0%|          | 0/33 [00:00<?, ?it/s]"
      ]
     },
     "metadata": {},
     "output_type": "display_data"
    },
    {
     "data": {
      "application/vnd.jupyter.widget-view+json": {
       "model_id": "ae3affe5d61a4bfeb89e5d06fe86ad3b",
       "version_major": 2,
       "version_minor": 0
      },
      "text/plain": [
       "Iteration:   0%|          | 0/33 [00:00<?, ?it/s]"
      ]
     },
     "metadata": {},
     "output_type": "display_data"
    },
    {
     "data": {
      "application/vnd.jupyter.widget-view+json": {
       "model_id": "170b7e65d82d4b61984e23c3d11bc02f",
       "version_major": 2,
       "version_minor": 0
      },
      "text/plain": [
       "Iteration:   0%|          | 0/33 [00:00<?, ?it/s]"
      ]
     },
     "metadata": {},
     "output_type": "display_data"
    },
    {
     "data": {
      "application/vnd.jupyter.widget-view+json": {
       "model_id": "41d6b342f3be4a488271057858e15a7d",
       "version_major": 2,
       "version_minor": 0
      },
      "text/plain": [
       "Iteration:   0%|          | 0/33 [00:00<?, ?it/s]"
      ]
     },
     "metadata": {},
     "output_type": "display_data"
    },
    {
     "data": {
      "application/vnd.jupyter.widget-view+json": {
       "model_id": "108cf0a6d83b435e97116322d2005ac4",
       "version_major": 2,
       "version_minor": 0
      },
      "text/plain": [
       "Iteration:   0%|          | 0/33 [00:00<?, ?it/s]"
      ]
     },
     "metadata": {},
     "output_type": "display_data"
    },
    {
     "data": {
      "application/vnd.jupyter.widget-view+json": {
       "model_id": "f8adb3e51e52403aae446d87b546bc64",
       "version_major": 2,
       "version_minor": 0
      },
      "text/plain": [
       "Iteration:   0%|          | 0/33 [00:00<?, ?it/s]"
      ]
     },
     "metadata": {},
     "output_type": "display_data"
    },
    {
     "data": {
      "application/vnd.jupyter.widget-view+json": {
       "model_id": "a486500d35b242cba75c090f75847e35",
       "version_major": 2,
       "version_minor": 0
      },
      "text/plain": [
       "Iteration:   0%|          | 0/33 [00:00<?, ?it/s]"
      ]
     },
     "metadata": {},
     "output_type": "display_data"
    },
    {
     "data": {
      "application/vnd.jupyter.widget-view+json": {
       "model_id": "06d9b18ab6054faa93344f944b3884ff",
       "version_major": 2,
       "version_minor": 0
      },
      "text/plain": [
       "Iteration:   0%|          | 0/33 [00:00<?, ?it/s]"
      ]
     },
     "metadata": {},
     "output_type": "display_data"
    },
    {
     "data": {
      "application/vnd.jupyter.widget-view+json": {
       "model_id": "67792ea2566a4a4181089bb0ee3a2672",
       "version_major": 2,
       "version_minor": 0
      },
      "text/plain": [
       "Iteration:   0%|          | 0/33 [00:00<?, ?it/s]"
      ]
     },
     "metadata": {},
     "output_type": "display_data"
    },
    {
     "data": {
      "application/vnd.jupyter.widget-view+json": {
       "model_id": "af203fbd83d244a1ab258341eb5dacb4",
       "version_major": 2,
       "version_minor": 0
      },
      "text/plain": [
       "Iteration:   0%|          | 0/33 [00:00<?, ?it/s]"
      ]
     },
     "metadata": {},
     "output_type": "display_data"
    },
    {
     "data": {
      "application/vnd.jupyter.widget-view+json": {
       "model_id": "36fdbd146e094f6a8aea758e4c7b1541",
       "version_major": 2,
       "version_minor": 0
      },
      "text/plain": [
       "Iteration:   0%|          | 0/33 [00:00<?, ?it/s]"
      ]
     },
     "metadata": {},
     "output_type": "display_data"
    },
    {
     "data": {
      "application/vnd.jupyter.widget-view+json": {
       "model_id": "0fded6c16edc40eda5ea912218ed020e",
       "version_major": 2,
       "version_minor": 0
      },
      "text/plain": [
       "Iteration:   0%|          | 0/33 [00:00<?, ?it/s]"
      ]
     },
     "metadata": {},
     "output_type": "display_data"
    },
    {
     "data": {
      "application/vnd.jupyter.widget-view+json": {
       "model_id": "8ffb77a29f574f91b82436b72d9810ea",
       "version_major": 2,
       "version_minor": 0
      },
      "text/plain": [
       "Iteration:   0%|          | 0/33 [00:00<?, ?it/s]"
      ]
     },
     "metadata": {},
     "output_type": "display_data"
    },
    {
     "data": {
      "application/vnd.jupyter.widget-view+json": {
       "model_id": "a06e4023977d437fb49e987b7d6a0268",
       "version_major": 2,
       "version_minor": 0
      },
      "text/plain": [
       "Iteration:   0%|          | 0/33 [00:00<?, ?it/s]"
      ]
     },
     "metadata": {},
     "output_type": "display_data"
    },
    {
     "data": {
      "application/vnd.jupyter.widget-view+json": {
       "model_id": "4d7ddd4057ec48d2b83f506a915f6f42",
       "version_major": 2,
       "version_minor": 0
      },
      "text/plain": [
       "Iteration:   0%|          | 0/33 [00:00<?, ?it/s]"
      ]
     },
     "metadata": {},
     "output_type": "display_data"
    },
    {
     "data": {
      "application/vnd.jupyter.widget-view+json": {
       "model_id": "a167a38e339a40a9b2a39a7289c03a3f",
       "version_major": 2,
       "version_minor": 0
      },
      "text/plain": [
       "Iteration:   0%|          | 0/33 [00:00<?, ?it/s]"
      ]
     },
     "metadata": {},
     "output_type": "display_data"
    },
    {
     "data": {
      "application/vnd.jupyter.widget-view+json": {
       "model_id": "ebd17e70f4454046931ac2f4f4b96ec6",
       "version_major": 2,
       "version_minor": 0
      },
      "text/plain": [
       "Iteration:   0%|          | 0/33 [00:00<?, ?it/s]"
      ]
     },
     "metadata": {},
     "output_type": "display_data"
    },
    {
     "data": {
      "application/vnd.jupyter.widget-view+json": {
       "model_id": "6ee03d20b41e4bacb719be56b28ea3c1",
       "version_major": 2,
       "version_minor": 0
      },
      "text/plain": [
       "Iteration:   0%|          | 0/33 [00:00<?, ?it/s]"
      ]
     },
     "metadata": {},
     "output_type": "display_data"
    },
    {
     "data": {
      "application/vnd.jupyter.widget-view+json": {
       "model_id": "e918cf5e825b4311812a716e3b46282a",
       "version_major": 2,
       "version_minor": 0
      },
      "text/plain": [
       "Iteration:   0%|          | 0/33 [00:00<?, ?it/s]"
      ]
     },
     "metadata": {},
     "output_type": "display_data"
    },
    {
     "data": {
      "application/vnd.jupyter.widget-view+json": {
       "model_id": "3ce97f0b7a3d434c8664dffc85f0e940",
       "version_major": 2,
       "version_minor": 0
      },
      "text/plain": [
       "Iteration:   0%|          | 0/33 [00:00<?, ?it/s]"
      ]
     },
     "metadata": {},
     "output_type": "display_data"
    },
    {
     "data": {
      "application/vnd.jupyter.widget-view+json": {
       "model_id": "1ac99d6771f1481d8cc7d14165495220",
       "version_major": 2,
       "version_minor": 0
      },
      "text/plain": [
       "Iteration:   0%|          | 0/33 [00:00<?, ?it/s]"
      ]
     },
     "metadata": {},
     "output_type": "display_data"
    },
    {
     "data": {
      "application/vnd.jupyter.widget-view+json": {
       "model_id": "a87da06975c540b9a8a06f5d6be8b09a",
       "version_major": 2,
       "version_minor": 0
      },
      "text/plain": [
       "Iteration:   0%|          | 0/33 [00:00<?, ?it/s]"
      ]
     },
     "metadata": {},
     "output_type": "display_data"
    },
    {
     "data": {
      "application/vnd.jupyter.widget-view+json": {
       "model_id": "ddd52ffe6efd462ab2b9b02acb626ad1",
       "version_major": 2,
       "version_minor": 0
      },
      "text/plain": [
       "Iteration:   0%|          | 0/33 [00:00<?, ?it/s]"
      ]
     },
     "metadata": {},
     "output_type": "display_data"
    },
    {
     "data": {
      "application/vnd.jupyter.widget-view+json": {
       "model_id": "6a4dedea441d47578bafd7f1803ea109",
       "version_major": 2,
       "version_minor": 0
      },
      "text/plain": [
       "Iteration:   0%|          | 0/33 [00:00<?, ?it/s]"
      ]
     },
     "metadata": {},
     "output_type": "display_data"
    },
    {
     "data": {
      "application/vnd.jupyter.widget-view+json": {
       "model_id": "078ad6a6c0fc428bad9d92c2507e94f7",
       "version_major": 2,
       "version_minor": 0
      },
      "text/plain": [
       "Iteration:   0%|          | 0/33 [00:00<?, ?it/s]"
      ]
     },
     "metadata": {},
     "output_type": "display_data"
    },
    {
     "data": {
      "application/vnd.jupyter.widget-view+json": {
       "model_id": "ad2de11b477d4ab5892bc2fa4e71305b",
       "version_major": 2,
       "version_minor": 0
      },
      "text/plain": [
       "Iteration:   0%|          | 0/33 [00:00<?, ?it/s]"
      ]
     },
     "metadata": {},
     "output_type": "display_data"
    },
    {
     "data": {
      "application/vnd.jupyter.widget-view+json": {
       "model_id": "039662962c7b43b2b6c7a1f12fe5bc0a",
       "version_major": 2,
       "version_minor": 0
      },
      "text/plain": [
       "Iteration:   0%|          | 0/33 [00:00<?, ?it/s]"
      ]
     },
     "metadata": {},
     "output_type": "display_data"
    },
    {
     "data": {
      "application/vnd.jupyter.widget-view+json": {
       "model_id": "2e54a165ad3d400cbbfd34b3ae8f08a2",
       "version_major": 2,
       "version_minor": 0
      },
      "text/plain": [
       "Iteration:   0%|          | 0/33 [00:00<?, ?it/s]"
      ]
     },
     "metadata": {},
     "output_type": "display_data"
    },
    {
     "data": {
      "application/vnd.jupyter.widget-view+json": {
       "model_id": "c5b5d527f54740b99967dca49fb68983",
       "version_major": 2,
       "version_minor": 0
      },
      "text/plain": [
       "Iteration:   0%|          | 0/33 [00:00<?, ?it/s]"
      ]
     },
     "metadata": {},
     "output_type": "display_data"
    },
    {
     "data": {
      "application/vnd.jupyter.widget-view+json": {
       "model_id": "f8b2031c42e04e53a625e4e753c53f98",
       "version_major": 2,
       "version_minor": 0
      },
      "text/plain": [
       "Iteration:   0%|          | 0/33 [00:00<?, ?it/s]"
      ]
     },
     "metadata": {},
     "output_type": "display_data"
    },
    {
     "data": {
      "application/vnd.jupyter.widget-view+json": {
       "model_id": "12c840bbb26a4113b08fd927d1016b1c",
       "version_major": 2,
       "version_minor": 0
      },
      "text/plain": [
       "Iteration:   0%|          | 0/33 [00:00<?, ?it/s]"
      ]
     },
     "metadata": {},
     "output_type": "display_data"
    },
    {
     "data": {
      "application/vnd.jupyter.widget-view+json": {
       "model_id": "f5186a01c5624f8d80c498386f2cf41c",
       "version_major": 2,
       "version_minor": 0
      },
      "text/plain": [
       "Iteration:   0%|          | 0/33 [00:00<?, ?it/s]"
      ]
     },
     "metadata": {},
     "output_type": "display_data"
    },
    {
     "data": {
      "application/vnd.jupyter.widget-view+json": {
       "model_id": "7942644292d34b4d9d489faee11df755",
       "version_major": 2,
       "version_minor": 0
      },
      "text/plain": [
       "Iteration:   0%|          | 0/33 [00:00<?, ?it/s]"
      ]
     },
     "metadata": {},
     "output_type": "display_data"
    },
    {
     "data": {
      "application/vnd.jupyter.widget-view+json": {
       "model_id": "8be15ef313274791be2248ca6b724885",
       "version_major": 2,
       "version_minor": 0
      },
      "text/plain": [
       "Iteration:   0%|          | 0/33 [00:00<?, ?it/s]"
      ]
     },
     "metadata": {},
     "output_type": "display_data"
    },
    {
     "data": {
      "application/vnd.jupyter.widget-view+json": {
       "model_id": "f94c41067cf3401091d490f645a29a6b",
       "version_major": 2,
       "version_minor": 0
      },
      "text/plain": [
       "Iteration:   0%|          | 0/33 [00:00<?, ?it/s]"
      ]
     },
     "metadata": {},
     "output_type": "display_data"
    },
    {
     "data": {
      "application/vnd.jupyter.widget-view+json": {
       "model_id": "e46a707beb734ecb827c48996869a8e6",
       "version_major": 2,
       "version_minor": 0
      },
      "text/plain": [
       "Iteration:   0%|          | 0/33 [00:00<?, ?it/s]"
      ]
     },
     "metadata": {},
     "output_type": "display_data"
    },
    {
     "data": {
      "application/vnd.jupyter.widget-view+json": {
       "model_id": "11457511dffa480f88edfbfb0aa84952",
       "version_major": 2,
       "version_minor": 0
      },
      "text/plain": [
       "Iteration:   0%|          | 0/33 [00:00<?, ?it/s]"
      ]
     },
     "metadata": {},
     "output_type": "display_data"
    },
    {
     "data": {
      "application/vnd.jupyter.widget-view+json": {
       "model_id": "7e8d5aa515104c3d94ef2212c29e01d0",
       "version_major": 2,
       "version_minor": 0
      },
      "text/plain": [
       "Iteration:   0%|          | 0/33 [00:00<?, ?it/s]"
      ]
     },
     "metadata": {},
     "output_type": "display_data"
    },
    {
     "data": {
      "application/vnd.jupyter.widget-view+json": {
       "model_id": "e3df6e12489f44959e7642df70aa61f0",
       "version_major": 2,
       "version_minor": 0
      },
      "text/plain": [
       "Iteration:   0%|          | 0/33 [00:00<?, ?it/s]"
      ]
     },
     "metadata": {},
     "output_type": "display_data"
    },
    {
     "data": {
      "application/vnd.jupyter.widget-view+json": {
       "model_id": "818ad43086d54ea3bf1b127d34e182be",
       "version_major": 2,
       "version_minor": 0
      },
      "text/plain": [
       "Iteration:   0%|          | 0/33 [00:00<?, ?it/s]"
      ]
     },
     "metadata": {},
     "output_type": "display_data"
    },
    {
     "data": {
      "application/vnd.jupyter.widget-view+json": {
       "model_id": "548192e3efb44cdb8fab8b286bd580ff",
       "version_major": 2,
       "version_minor": 0
      },
      "text/plain": [
       "Iteration:   0%|          | 0/33 [00:00<?, ?it/s]"
      ]
     },
     "metadata": {},
     "output_type": "display_data"
    },
    {
     "data": {
      "application/vnd.jupyter.widget-view+json": {
       "model_id": "e275d23e3e6c47ddb957504969f37b5d",
       "version_major": 2,
       "version_minor": 0
      },
      "text/plain": [
       "Iteration:   0%|          | 0/33 [00:00<?, ?it/s]"
      ]
     },
     "metadata": {},
     "output_type": "display_data"
    }
   ],
   "source": [
    "from sentence_transformers import losses\n",
    "\n",
    "train_loss = losses.ContrastiveLoss(model)  # 定义损失函数，与查询时使用的方法一致\n",
    "model.fit(train_objectives=[(train_dataloader, train_loss)], epochs=50)  # 训练模型\n",
    "model.save('./model/')"
   ]
  },
  {
   "cell_type": "code",
   "execution_count": 26,
   "metadata": {},
   "outputs": [
    {
     "name": "stdout",
     "output_type": "stream",
     "text": [
      "\n",
      "\n",
      "======================\n",
      "\n",
      "\n",
      "Query: 电池\n",
      "\n",
      "Top 5 most similar sentences in corpus:\n",
      "有害垃圾 (Score: 0.7101)\n",
      "\n",
      "\n",
      "======================\n",
      "\n",
      "\n",
      "Query: 外卖盒\n",
      "\n",
      "Top 5 most similar sentences in corpus:\n",
      "可回收垃圾 (Score: 0.9514)\n",
      "\n",
      "\n",
      "======================\n",
      "\n",
      "\n",
      "Query: 骨头\n",
      "\n",
      "Top 5 most similar sentences in corpus:\n",
      "易腐垃圾 (Score: 0.7340)\n",
      "\n",
      "\n",
      "======================\n",
      "\n",
      "\n",
      "Query: 化妆品\n",
      "\n",
      "Top 5 most similar sentences in corpus:\n",
      "可回收垃圾 (Score: 0.7763)\n",
      "\n",
      "\n",
      "======================\n",
      "\n",
      "\n",
      "Query: 纸箱\n",
      "\n",
      "Top 5 most similar sentences in corpus:\n",
      "可回收垃圾 (Score: 0.9138)\n"
     ]
    }
   ],
   "source": [
    "from sentence_transformers import util\n",
    "import torch\n",
    "\n",
    "\n",
    "corpus = ['其他垃圾', '可回收垃圾', '易腐垃圾', '有害垃圾']\n",
    "corpus_embeddings = model.encode(corpus, convert_to_tensor=True)\n",
    "\n",
    "# Query sentences:\n",
    "queries = ['电池', '外卖盒', '骨头', '化妆品', '纸箱']\n",
    "\n",
    "\n",
    "# Find the closest 5 sentences of the corpus for each query sentence based on cosine similarity\n",
    "top_k = min(5, len(corpus))\n",
    "for query in queries:\n",
    "    query_embedding = model.encode(query, convert_to_tensor=True)\n",
    "\n",
    "    # We use cosine-similarity and torch.topk to find the highest 5 scores\n",
    "    cos_scores = util.cos_sim(query_embedding, corpus_embeddings)[0]\n",
    "    top_results = torch.topk(cos_scores, k=top_k)\n",
    "\n",
    "    print(\"\\n\\n======================\\n\\n\")\n",
    "    print(\"Query:\", query)\n",
    "    print(\"\\nTop 5 most similar sentences in corpus:\")\n",
    "\n",
    "    for score, idx in zip(top_results[0], top_results[1]):\n",
    "        print(corpus[idx], \"(Score: {:.4f})\".format(score))\n",
    "        break"
   ]
  },
  {
   "cell_type": "code",
   "execution_count": 31,
   "metadata": {},
   "outputs": [],
   "source": [
    "import numpy as np\n",
    "def softmax(x):\n",
    "    x = [i.cpu().numpy() for i in x]\n",
    "    return np.exp(x) / np.sum(np.exp(x), axis=0)\n",
    "def cls(query):\n",
    "    query_embedding = model.encode(query, convert_to_tensor=True)\n",
    "    cos_scores = util.cos_sim(query_embedding, corpus_embeddings)[0]\n",
    "    top_results = torch.topk(cos_scores, k=1)  # topk结果，如果垃圾分类多的话也可以返回多个结果推荐\n",
    "    result_id, result_score = [], []\n",
    "    for score, idx in zip(top_results[0], top_results[1]):\n",
    "        result_id.append(idx)\n",
    "        result_score.append(score)\n",
    "    result_score = softmax(result_score)\n",
    "    result_label = [corpus[i] for i in result_id]\n",
    "    return result_label[0]\n",
    "    result = dict(zip(result_label, result_score))\n",
    "    return result"
   ]
  },
  {
   "cell_type": "code",
   "execution_count": 32,
   "metadata": {},
   "outputs": [
    {
     "data": {
      "text/plain": [
       "'有害垃圾'"
      ]
     },
     "execution_count": 32,
     "metadata": {},
     "output_type": "execute_result"
    }
   ],
   "source": [
    "cls('电池')"
   ]
  },
  {
   "cell_type": "code",
   "execution_count": 33,
   "metadata": {},
   "outputs": [
    {
     "name": "stdout",
     "output_type": "stream",
     "text": [
      "0.9457364341085271\n"
     ]
    }
   ],
   "source": [
    "c, n = 0, 0\n",
    "for k, v in trash_type.items():\n",
    "    for i in v:\n",
    "        result = cls(i)\n",
    "        if k == result:\n",
    "            c += 1\n",
    "        n += 1\n",
    "print(c / n)"
   ]
  }
 ],
 "metadata": {
  "kernelspec": {
   "display_name": "Python 3 (ipykernel)",
   "language": "python",
   "name": "python3"
  },
  "language_info": {
   "codemirror_mode": {
    "name": "ipython",
    "version": 3
   },
   "file_extension": ".py",
   "mimetype": "text/x-python",
   "name": "python",
   "nbconvert_exporter": "python",
   "pygments_lexer": "ipython3",
   "version": "3.10.13"
  },
  "orig_nbformat": 4
 },
 "nbformat": 4,
 "nbformat_minor": 2
}
